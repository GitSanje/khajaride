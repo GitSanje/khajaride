{
 "cells": [
  {
   "cell_type": "code",
   "execution_count": 2,
   "id": "dd06ef48",
   "metadata": {},
   "outputs": [
    {
     "name": "stdout",
     "output_type": "stream",
     "text": [
      "Duplicate vendor IDs found: {1825, 2242, 2243, 1798, 136, 1803, 1707, 1709, 1772, 1840, 1264, 1456, 1524, 1813, 1846, 1780, 1853}\n",
      "New JSON file with unique vendors written successfully!\n"
     ]
    }
   ],
   "source": [
    "import json\n",
    "\n",
    "# Open and read the original JSON file\n",
    "with open(\"foodmandu_all_restaurants.json\", \"r\", encoding=\"utf-8\") as f:\n",
    "    data = json.load(f)\n",
    "\n",
    "unique_vendor_ids = set()\n",
    "duplicates = set()  # to store duplicate IDs\n",
    "new_data = {\"vendors\": []}\n",
    "\n",
    "for vendors in data.values():\n",
    "    if not isinstance(vendors, list):\n",
    "        continue\n",
    "\n",
    "    for vendor in vendors:\n",
    "        if not isinstance(vendor, dict):\n",
    "            continue\n",
    "\n",
    "        vendor_id = vendor.get(\"Id\")\n",
    "        if vendor_id is None:\n",
    "            continue\n",
    "\n",
    "        # Only include vendor if its ID is not already in the set\n",
    "        if vendor_id not in unique_vendor_ids:\n",
    "            unique_vendor_ids.add(vendor_id)\n",
    "            new_data[\"vendors\"].append(vendor)\n",
    "        else:\n",
    "            duplicates.add(vendor_id)  # record duplicate ID\n",
    "\n",
    "# Write the unique vendors to a new JSON file\n",
    "with open(\"new_vendors2.json\", \"w\", encoding=\"utf-8\") as f:\n",
    "    json.dump(new_data, f, indent=2, ensure_ascii=False)\n",
    "\n",
    "# Print duplicate IDs\n",
    "if duplicates:\n",
    "    print(\"Duplicate vendor IDs found:\", duplicates)\n",
    "else:\n",
    "    print(\"No duplicate vendor IDs found.\")\n",
    "\n",
    "print(\"New JSON file with unique vendors written successfully!\")\n"
   ]
  }
 ],
 "metadata": {
  "kernelspec": {
   "display_name": "Python 3",
   "language": "python",
   "name": "python3"
  },
  "language_info": {
   "codemirror_mode": {
    "name": "ipython",
    "version": 3
   },
   "file_extension": ".py",
   "mimetype": "text/x-python",
   "name": "python",
   "nbconvert_exporter": "python",
   "pygments_lexer": "ipython3",
   "version": "3.10.12"
  }
 },
 "nbformat": 4,
 "nbformat_minor": 5
}
